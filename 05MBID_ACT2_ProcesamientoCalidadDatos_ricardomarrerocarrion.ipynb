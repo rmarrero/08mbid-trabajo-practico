{
 "cells": [
  {
   "cell_type": "markdown",
   "metadata": {},
   "source": [
    "# <center> 05MBID Minería de Datos <center>\n",
    "## <center> Actividad 2 .- Procesamiento y Calidad de Datos <center>\n",
    "### <center> Autor: Ricardo Marrero carrión <center>"
   ]
  },
  {
   "cell_type": "markdown",
   "metadata": {},
   "source": [
    "### Indice\n",
    "<ol>\n",
    "<li>Objetivo</li>\n",
    "<li>Librerias a utilizar</li>\n",
    "<li>Dataset Origen</li>\n",
    "<li>Selección de atributos</li>\n",
    "<li>Limpieza de datos</li>\n",
    "<li>Visualización </li>\n",
    "<li>Conclusiones </li>\n",
    "</ol>"
   ]
  },
  {
   "cell_type": "markdown",
   "metadata": {},
   "source": [
    "### 1.- Objetivo"
   ]
  },
  {
   "cell_type": "markdown",
   "metadata": {},
   "source": [
    "Crear un Dataframe (DF), para buscar patrones que muestran los Parques del Resort Walt Disney World en Orlando y así, **categorizar y etiquetar** distintos períodos en el año, que permita no solo a un turista analizar en base a una serie de atributos cuando es el mejor momento de realizar el viaje, sino que también permita a un Operador Turístico realizar campañas y ofertar promociones a sus clientes en base a estas categorías."
   ]
  },
  {
   "cell_type": "markdown",
   "metadata": {},
   "source": [
    "### 2.- Librerías a Utilizar"
   ]
  },
  {
   "cell_type": "code",
   "execution_count": 1,
   "metadata": {},
   "outputs": [],
   "source": [
    "import pandas as pd\n",
    "import numpy as np\n",
    "import seaborn as sns\n",
    "\n",
    "import matplotlib.pyplot as plt\n",
    "import matplotlib.mlab as mlab\n",
    "import matplotlib\n",
    "plt.style.use('ggplot')\n",
    "from matplotlib.pyplot import figure\n",
    "\n",
    "%matplotlib inline\n",
    "matplotlib.rcParams['figure.figsize'] = (12,8)\n",
    "\n",
    "pd.options.mode.chained_assignment = None"
   ]
  },
  {
   "cell_type": "markdown",
   "metadata": {},
   "source": [
    "### 3.- Dataset Origen"
   ]
  },
  {
   "cell_type": "markdown",
   "metadata": {},
   "source": [
    "Creamos un primer Dataset llamado \"Disney\" con todos los atributos del csv original\n",
    "\n",
    "**Fuente**: \"metadata.csv\", Disney World Ride Wait Time Datasets, TouringPlans.com, June 2021, [enlace](https://www.touringplans.com/walt-disney-world/crowd-calendar/#DataSets), Accessed 13 June 2021."
   ]
  },
  {
   "cell_type": "code",
   "execution_count": 2,
   "metadata": {},
   "outputs": [],
   "source": [
    "disney = pd.read_csv('metadata.csv')"
   ]
  },
  {
   "cell_type": "code",
   "execution_count": 3,
   "metadata": {},
   "outputs": [
    {
     "name": "stdout",
     "output_type": "stream",
     "text": [
      "(2120, 181)\n"
     ]
    }
   ],
   "source": [
    "print(disney.shape)"
   ]
  },
  {
   "cell_type": "markdown",
   "metadata": {},
   "source": [
    "Tenemos una muestra de 2120 filas (datos desde enero 2015) y 181 atributos"
   ]
  },
  {
   "cell_type": "code",
   "execution_count": 4,
   "metadata": {},
   "outputs": [
    {
     "data": {
      "text/html": [
       "<div>\n",
       "<style scoped>\n",
       "    .dataframe tbody tr th:only-of-type {\n",
       "        vertical-align: middle;\n",
       "    }\n",
       "\n",
       "    .dataframe tbody tr th {\n",
       "        vertical-align: top;\n",
       "    }\n",
       "\n",
       "    .dataframe thead th {\n",
       "        text-align: right;\n",
       "    }\n",
       "</style>\n",
       "<table border=\"1\" class=\"dataframe\">\n",
       "  <thead>\n",
       "    <tr style=\"text-align: right;\">\n",
       "      <th></th>\n",
       "      <th>DATE</th>\n",
       "      <th>WDW_TICKET_SEASON</th>\n",
       "      <th>DAYOFWEEK</th>\n",
       "      <th>DAYOFYEAR</th>\n",
       "      <th>WEEKOFYEAR</th>\n",
       "      <th>MONTHOFYEAR</th>\n",
       "      <th>YEAR</th>\n",
       "      <th>SEASON</th>\n",
       "      <th>HOLIDAYPX</th>\n",
       "      <th>HOLIDAYM</th>\n",
       "      <th>...</th>\n",
       "      <th>HSFIREWKS</th>\n",
       "      <th>AKPRDDAY</th>\n",
       "      <th>AKPRDDT1</th>\n",
       "      <th>AKPRDDT2</th>\n",
       "      <th>AKPRDDN</th>\n",
       "      <th>AKFIREN</th>\n",
       "      <th>AKSHWNGT</th>\n",
       "      <th>AKSHWNT1</th>\n",
       "      <th>AKSHWNT2</th>\n",
       "      <th>AKSHWNN</th>\n",
       "    </tr>\n",
       "  </thead>\n",
       "  <tbody>\n",
       "    <tr>\n",
       "      <th>0</th>\n",
       "      <td>01/01/2015</td>\n",
       "      <td>NaN</td>\n",
       "      <td>5</td>\n",
       "      <td>0</td>\n",
       "      <td>0</td>\n",
       "      <td>1</td>\n",
       "      <td>2015</td>\n",
       "      <td>CHRISTMAS PEAK</td>\n",
       "      <td>0</td>\n",
       "      <td>5</td>\n",
       "      <td>...</td>\n",
       "      <td>1</td>\n",
       "      <td>0</td>\n",
       "      <td>NaN</td>\n",
       "      <td>NaN</td>\n",
       "      <td>NaN</td>\n",
       "      <td>NaN</td>\n",
       "      <td>0</td>\n",
       "      <td>NaN</td>\n",
       "      <td>NaN</td>\n",
       "      <td>NaN</td>\n",
       "    </tr>\n",
       "    <tr>\n",
       "      <th>1</th>\n",
       "      <td>01/02/2015</td>\n",
       "      <td>NaN</td>\n",
       "      <td>6</td>\n",
       "      <td>1</td>\n",
       "      <td>0</td>\n",
       "      <td>1</td>\n",
       "      <td>2015</td>\n",
       "      <td>CHRISTMAS</td>\n",
       "      <td>2</td>\n",
       "      <td>5</td>\n",
       "      <td>...</td>\n",
       "      <td>1</td>\n",
       "      <td>0</td>\n",
       "      <td>NaN</td>\n",
       "      <td>NaN</td>\n",
       "      <td>NaN</td>\n",
       "      <td>NaN</td>\n",
       "      <td>0</td>\n",
       "      <td>NaN</td>\n",
       "      <td>NaN</td>\n",
       "      <td>NaN</td>\n",
       "    </tr>\n",
       "    <tr>\n",
       "      <th>2</th>\n",
       "      <td>01/03/2015</td>\n",
       "      <td>NaN</td>\n",
       "      <td>7</td>\n",
       "      <td>2</td>\n",
       "      <td>0</td>\n",
       "      <td>1</td>\n",
       "      <td>2015</td>\n",
       "      <td>CHRISTMAS</td>\n",
       "      <td>3</td>\n",
       "      <td>0</td>\n",
       "      <td>...</td>\n",
       "      <td>1</td>\n",
       "      <td>0</td>\n",
       "      <td>NaN</td>\n",
       "      <td>NaN</td>\n",
       "      <td>NaN</td>\n",
       "      <td>NaN</td>\n",
       "      <td>0</td>\n",
       "      <td>NaN</td>\n",
       "      <td>NaN</td>\n",
       "      <td>NaN</td>\n",
       "    </tr>\n",
       "    <tr>\n",
       "      <th>3</th>\n",
       "      <td>01/04/2015</td>\n",
       "      <td>NaN</td>\n",
       "      <td>1</td>\n",
       "      <td>3</td>\n",
       "      <td>1</td>\n",
       "      <td>1</td>\n",
       "      <td>2015</td>\n",
       "      <td>CHRISTMAS</td>\n",
       "      <td>4</td>\n",
       "      <td>0</td>\n",
       "      <td>...</td>\n",
       "      <td>1</td>\n",
       "      <td>0</td>\n",
       "      <td>NaN</td>\n",
       "      <td>NaN</td>\n",
       "      <td>NaN</td>\n",
       "      <td>NaN</td>\n",
       "      <td>0</td>\n",
       "      <td>NaN</td>\n",
       "      <td>NaN</td>\n",
       "      <td>NaN</td>\n",
       "    </tr>\n",
       "    <tr>\n",
       "      <th>4</th>\n",
       "      <td>01/05/2015</td>\n",
       "      <td>NaN</td>\n",
       "      <td>2</td>\n",
       "      <td>4</td>\n",
       "      <td>1</td>\n",
       "      <td>1</td>\n",
       "      <td>2015</td>\n",
       "      <td>CHRISTMAS</td>\n",
       "      <td>5</td>\n",
       "      <td>0</td>\n",
       "      <td>...</td>\n",
       "      <td>1</td>\n",
       "      <td>0</td>\n",
       "      <td>NaN</td>\n",
       "      <td>NaN</td>\n",
       "      <td>NaN</td>\n",
       "      <td>NaN</td>\n",
       "      <td>0</td>\n",
       "      <td>NaN</td>\n",
       "      <td>NaN</td>\n",
       "      <td>NaN</td>\n",
       "    </tr>\n",
       "    <tr>\n",
       "      <th>...</th>\n",
       "      <td>...</td>\n",
       "      <td>...</td>\n",
       "      <td>...</td>\n",
       "      <td>...</td>\n",
       "      <td>...</td>\n",
       "      <td>...</td>\n",
       "      <td>...</td>\n",
       "      <td>...</td>\n",
       "      <td>...</td>\n",
       "      <td>...</td>\n",
       "      <td>...</td>\n",
       "      <td>...</td>\n",
       "      <td>...</td>\n",
       "      <td>...</td>\n",
       "      <td>...</td>\n",
       "      <td>...</td>\n",
       "      <td>...</td>\n",
       "      <td>...</td>\n",
       "      <td>...</td>\n",
       "      <td>...</td>\n",
       "      <td>...</td>\n",
       "    </tr>\n",
       "    <tr>\n",
       "      <th>2115</th>\n",
       "      <td>05/27/2021</td>\n",
       "      <td>NaN</td>\n",
       "      <td>5</td>\n",
       "      <td>146</td>\n",
       "      <td>21</td>\n",
       "      <td>5</td>\n",
       "      <td>2021</td>\n",
       "      <td>NaN</td>\n",
       "      <td>5</td>\n",
       "      <td>0</td>\n",
       "      <td>...</td>\n",
       "      <td>1</td>\n",
       "      <td>0</td>\n",
       "      <td>NaN</td>\n",
       "      <td>NaN</td>\n",
       "      <td>NaN</td>\n",
       "      <td>NaN</td>\n",
       "      <td>0</td>\n",
       "      <td>NaN</td>\n",
       "      <td>NaN</td>\n",
       "      <td>NaN</td>\n",
       "    </tr>\n",
       "    <tr>\n",
       "      <th>2116</th>\n",
       "      <td>05/30/2021</td>\n",
       "      <td>NaN</td>\n",
       "      <td>1</td>\n",
       "      <td>149</td>\n",
       "      <td>22</td>\n",
       "      <td>5</td>\n",
       "      <td>2021</td>\n",
       "      <td>NaN</td>\n",
       "      <td>2</td>\n",
       "      <td>3</td>\n",
       "      <td>...</td>\n",
       "      <td>1</td>\n",
       "      <td>0</td>\n",
       "      <td>NaN</td>\n",
       "      <td>NaN</td>\n",
       "      <td>NaN</td>\n",
       "      <td>NaN</td>\n",
       "      <td>0</td>\n",
       "      <td>NaN</td>\n",
       "      <td>NaN</td>\n",
       "      <td>NaN</td>\n",
       "    </tr>\n",
       "    <tr>\n",
       "      <th>2117</th>\n",
       "      <td>05/31/2021</td>\n",
       "      <td>NaN</td>\n",
       "      <td>2</td>\n",
       "      <td>150</td>\n",
       "      <td>22</td>\n",
       "      <td>5</td>\n",
       "      <td>2021</td>\n",
       "      <td>NaN</td>\n",
       "      <td>0</td>\n",
       "      <td>0</td>\n",
       "      <td>...</td>\n",
       "      <td>1</td>\n",
       "      <td>0</td>\n",
       "      <td>NaN</td>\n",
       "      <td>NaN</td>\n",
       "      <td>NaN</td>\n",
       "      <td>NaN</td>\n",
       "      <td>0</td>\n",
       "      <td>NaN</td>\n",
       "      <td>NaN</td>\n",
       "      <td>NaN</td>\n",
       "    </tr>\n",
       "    <tr>\n",
       "      <th>2118</th>\n",
       "      <td>06/01/2021</td>\n",
       "      <td>NaN</td>\n",
       "      <td>3</td>\n",
       "      <td>151</td>\n",
       "      <td>22</td>\n",
       "      <td>6</td>\n",
       "      <td>2021</td>\n",
       "      <td>NaN</td>\n",
       "      <td>2</td>\n",
       "      <td>3</td>\n",
       "      <td>...</td>\n",
       "      <td>1</td>\n",
       "      <td>0</td>\n",
       "      <td>NaN</td>\n",
       "      <td>NaN</td>\n",
       "      <td>NaN</td>\n",
       "      <td>NaN</td>\n",
       "      <td>0</td>\n",
       "      <td>NaN</td>\n",
       "      <td>NaN</td>\n",
       "      <td>NaN</td>\n",
       "    </tr>\n",
       "    <tr>\n",
       "      <th>2119</th>\n",
       "      <td>06/02/2021</td>\n",
       "      <td>NaN</td>\n",
       "      <td>4</td>\n",
       "      <td>152</td>\n",
       "      <td>22</td>\n",
       "      <td>6</td>\n",
       "      <td>2021</td>\n",
       "      <td>NaN</td>\n",
       "      <td>3</td>\n",
       "      <td>0</td>\n",
       "      <td>...</td>\n",
       "      <td>1</td>\n",
       "      <td>0</td>\n",
       "      <td>NaN</td>\n",
       "      <td>NaN</td>\n",
       "      <td>NaN</td>\n",
       "      <td>NaN</td>\n",
       "      <td>0</td>\n",
       "      <td>NaN</td>\n",
       "      <td>NaN</td>\n",
       "      <td>NaN</td>\n",
       "    </tr>\n",
       "  </tbody>\n",
       "</table>\n",
       "<p>2120 rows × 181 columns</p>\n",
       "</div>"
      ],
      "text/plain": [
       "            DATE WDW_TICKET_SEASON  DAYOFWEEK  DAYOFYEAR  WEEKOFYEAR  \\\n",
       "0     01/01/2015               NaN          5          0           0   \n",
       "1     01/02/2015               NaN          6          1           0   \n",
       "2     01/03/2015               NaN          7          2           0   \n",
       "3     01/04/2015               NaN          1          3           1   \n",
       "4     01/05/2015               NaN          2          4           1   \n",
       "...          ...               ...        ...        ...         ...   \n",
       "2115  05/27/2021               NaN          5        146          21   \n",
       "2116  05/30/2021               NaN          1        149          22   \n",
       "2117  05/31/2021               NaN          2        150          22   \n",
       "2118  06/01/2021               NaN          3        151          22   \n",
       "2119  06/02/2021               NaN          4        152          22   \n",
       "\n",
       "      MONTHOFYEAR  YEAR          SEASON  HOLIDAYPX  HOLIDAYM  ... HSFIREWKS  \\\n",
       "0               1  2015  CHRISTMAS PEAK          0         5  ...         1   \n",
       "1               1  2015       CHRISTMAS          2         5  ...         1   \n",
       "2               1  2015       CHRISTMAS          3         0  ...         1   \n",
       "3               1  2015       CHRISTMAS          4         0  ...         1   \n",
       "4               1  2015       CHRISTMAS          5         0  ...         1   \n",
       "...           ...   ...             ...        ...       ...  ...       ...   \n",
       "2115            5  2021             NaN          5         0  ...         1   \n",
       "2116            5  2021             NaN          2         3  ...         1   \n",
       "2117            5  2021             NaN          0         0  ...         1   \n",
       "2118            6  2021             NaN          2         3  ...         1   \n",
       "2119            6  2021             NaN          3         0  ...         1   \n",
       "\n",
       "      AKPRDDAY AKPRDDT1 AKPRDDT2 AKPRDDN  AKFIREN  AKSHWNGT AKSHWNT1  \\\n",
       "0            0      NaN      NaN     NaN      NaN         0      NaN   \n",
       "1            0      NaN      NaN     NaN      NaN         0      NaN   \n",
       "2            0      NaN      NaN     NaN      NaN         0      NaN   \n",
       "3            0      NaN      NaN     NaN      NaN         0      NaN   \n",
       "4            0      NaN      NaN     NaN      NaN         0      NaN   \n",
       "...        ...      ...      ...     ...      ...       ...      ...   \n",
       "2115         0      NaN      NaN     NaN      NaN         0      NaN   \n",
       "2116         0      NaN      NaN     NaN      NaN         0      NaN   \n",
       "2117         0      NaN      NaN     NaN      NaN         0      NaN   \n",
       "2118         0      NaN      NaN     NaN      NaN         0      NaN   \n",
       "2119         0      NaN      NaN     NaN      NaN         0      NaN   \n",
       "\n",
       "      AKSHWNT2  AKSHWNN  \n",
       "0          NaN      NaN  \n",
       "1          NaN      NaN  \n",
       "2          NaN      NaN  \n",
       "3          NaN      NaN  \n",
       "4          NaN      NaN  \n",
       "...        ...      ...  \n",
       "2115       NaN      NaN  \n",
       "2116       NaN      NaN  \n",
       "2117       NaN      NaN  \n",
       "2118       NaN      NaN  \n",
       "2119       NaN      NaN  \n",
       "\n",
       "[2120 rows x 181 columns]"
      ]
     },
     "execution_count": 4,
     "metadata": {},
     "output_type": "execute_result"
    }
   ],
   "source": [
    "disney"
   ]
  },
  {
   "cell_type": "markdown",
   "metadata": {},
   "source": [
    "Observamos que es un DF que posee un gran número de columnas, **muchas de ellas con valores NaN**, que deberemos limpiar "
   ]
  },
  {
   "cell_type": "markdown",
   "metadata": {},
   "source": [
    "### 4 .- Selección de atributos"
   ]
  },
  {
   "cell_type": "markdown",
   "metadata": {},
   "source": [
    "Tal y como se indicó en el Capítulo 3.1 de la Actividad 1, si bien el DF tiene 181 columnas o atributos, **no todos ellos aportan datos relevantes** para el objetivo de este estudio o predicción.\n",
    "Por lo tanto, vamos a crear un 2do DF donde solo nos quedemos con los atributos que en una revisión preliminar, se ha considerado aportarán información al estudio."
   ]
  },
  {
   "cell_type": "code",
   "execution_count": 5,
   "metadata": {},
   "outputs": [],
   "source": [
    "disney2 = disney[['DATE','WDW_TICKET_SEASON','DAYOFWEEK','WEEKOFYEAR','MONTHOFYEAR','YEAR','SEASON','HOLIDAY',\n",
    "                  'WDWevent','WDWrace','WDWMEANTEMP','inSession','MKEMHMORN','MKEMHEVE','MKHOURSEMH','EPEMHMORN',\n",
    "                  'EPEMHEVE','EPHOURSEMH','HSEMHMORN','HSEMHEVE','HSHOURSEMH','AKEMHMORN','AKEMHEVE','AKHOURSEMH',\n",
    "                  'WEATHER_WDWPRECIP','CapacityLost_MK','CapacityLost_EP','CapacityLost_HS','CapacityLost_AK',\n",
    "                  'MKPRDDAY','MKFIREWK','EPFIREWK','HSFIREWK','HSSHWNGT','AKSHWNGT']]"
   ]
  },
  {
   "cell_type": "code",
   "execution_count": 6,
   "metadata": {},
   "outputs": [
    {
     "name": "stdout",
     "output_type": "stream",
     "text": [
      "(2120, 35)\n"
     ]
    }
   ],
   "source": [
    "print(disney2.shape)"
   ]
  },
  {
   "cell_type": "markdown",
   "metadata": {},
   "source": [
    "Este nuevo conjunto de atributos, incluye el que será el **valor salida** del modelo. Como buscamos clasificar // agrupar por períodos, usaremos el atributo **'WEEKOFYEAR'**"
   ]
  },
  {
   "cell_type": "code",
   "execution_count": 7,
   "metadata": {},
   "outputs": [
    {
     "data": {
      "text/html": [
       "<div>\n",
       "<style scoped>\n",
       "    .dataframe tbody tr th:only-of-type {\n",
       "        vertical-align: middle;\n",
       "    }\n",
       "\n",
       "    .dataframe tbody tr th {\n",
       "        vertical-align: top;\n",
       "    }\n",
       "\n",
       "    .dataframe thead th {\n",
       "        text-align: right;\n",
       "    }\n",
       "</style>\n",
       "<table border=\"1\" class=\"dataframe\">\n",
       "  <thead>\n",
       "    <tr style=\"text-align: right;\">\n",
       "      <th></th>\n",
       "      <th>DATE</th>\n",
       "      <th>WDW_TICKET_SEASON</th>\n",
       "      <th>DAYOFWEEK</th>\n",
       "      <th>WEEKOFYEAR</th>\n",
       "      <th>MONTHOFYEAR</th>\n",
       "      <th>YEAR</th>\n",
       "      <th>SEASON</th>\n",
       "      <th>HOLIDAY</th>\n",
       "      <th>WDWevent</th>\n",
       "      <th>WDWrace</th>\n",
       "      <th>...</th>\n",
       "      <th>CapacityLost_MK</th>\n",
       "      <th>CapacityLost_EP</th>\n",
       "      <th>CapacityLost_HS</th>\n",
       "      <th>CapacityLost_AK</th>\n",
       "      <th>MKPRDDAY</th>\n",
       "      <th>MKFIREWK</th>\n",
       "      <th>EPFIREWK</th>\n",
       "      <th>HSFIREWK</th>\n",
       "      <th>HSSHWNGT</th>\n",
       "      <th>AKSHWNGT</th>\n",
       "    </tr>\n",
       "  </thead>\n",
       "  <tbody>\n",
       "    <tr>\n",
       "      <th>0</th>\n",
       "      <td>01/01/2015</td>\n",
       "      <td>NaN</td>\n",
       "      <td>5</td>\n",
       "      <td>0</td>\n",
       "      <td>1</td>\n",
       "      <td>2015</td>\n",
       "      <td>CHRISTMAS PEAK</td>\n",
       "      <td>1</td>\n",
       "      <td>0</td>\n",
       "      <td>0</td>\n",
       "      <td>...</td>\n",
       "      <td>352865</td>\n",
       "      <td>325168</td>\n",
       "      <td>203780</td>\n",
       "      <td>210779</td>\n",
       "      <td>2</td>\n",
       "      <td>1</td>\n",
       "      <td>1</td>\n",
       "      <td>0</td>\n",
       "      <td>3</td>\n",
       "      <td>0</td>\n",
       "    </tr>\n",
       "    <tr>\n",
       "      <th>1</th>\n",
       "      <td>01/02/2015</td>\n",
       "      <td>NaN</td>\n",
       "      <td>6</td>\n",
       "      <td>0</td>\n",
       "      <td>1</td>\n",
       "      <td>2015</td>\n",
       "      <td>CHRISTMAS</td>\n",
       "      <td>0</td>\n",
       "      <td>0</td>\n",
       "      <td>0</td>\n",
       "      <td>...</td>\n",
       "      <td>352865</td>\n",
       "      <td>325168</td>\n",
       "      <td>203780</td>\n",
       "      <td>210779</td>\n",
       "      <td>2</td>\n",
       "      <td>1</td>\n",
       "      <td>1</td>\n",
       "      <td>0</td>\n",
       "      <td>3</td>\n",
       "      <td>0</td>\n",
       "    </tr>\n",
       "    <tr>\n",
       "      <th>2</th>\n",
       "      <td>01/03/2015</td>\n",
       "      <td>NaN</td>\n",
       "      <td>7</td>\n",
       "      <td>0</td>\n",
       "      <td>1</td>\n",
       "      <td>2015</td>\n",
       "      <td>CHRISTMAS</td>\n",
       "      <td>0</td>\n",
       "      <td>0</td>\n",
       "      <td>0</td>\n",
       "      <td>...</td>\n",
       "      <td>352865</td>\n",
       "      <td>325168</td>\n",
       "      <td>203780</td>\n",
       "      <td>210779</td>\n",
       "      <td>2</td>\n",
       "      <td>1</td>\n",
       "      <td>1</td>\n",
       "      <td>0</td>\n",
       "      <td>2</td>\n",
       "      <td>0</td>\n",
       "    </tr>\n",
       "    <tr>\n",
       "      <th>3</th>\n",
       "      <td>01/04/2015</td>\n",
       "      <td>NaN</td>\n",
       "      <td>1</td>\n",
       "      <td>1</td>\n",
       "      <td>1</td>\n",
       "      <td>2015</td>\n",
       "      <td>CHRISTMAS</td>\n",
       "      <td>0</td>\n",
       "      <td>0</td>\n",
       "      <td>0</td>\n",
       "      <td>...</td>\n",
       "      <td>352865</td>\n",
       "      <td>325168</td>\n",
       "      <td>203780</td>\n",
       "      <td>210779</td>\n",
       "      <td>1</td>\n",
       "      <td>1</td>\n",
       "      <td>1</td>\n",
       "      <td>0</td>\n",
       "      <td>2</td>\n",
       "      <td>0</td>\n",
       "    </tr>\n",
       "    <tr>\n",
       "      <th>4</th>\n",
       "      <td>01/05/2015</td>\n",
       "      <td>NaN</td>\n",
       "      <td>2</td>\n",
       "      <td>1</td>\n",
       "      <td>1</td>\n",
       "      <td>2015</td>\n",
       "      <td>CHRISTMAS</td>\n",
       "      <td>0</td>\n",
       "      <td>0</td>\n",
       "      <td>0</td>\n",
       "      <td>...</td>\n",
       "      <td>354065</td>\n",
       "      <td>325168</td>\n",
       "      <td>213779</td>\n",
       "      <td>210779</td>\n",
       "      <td>1</td>\n",
       "      <td>1</td>\n",
       "      <td>1</td>\n",
       "      <td>0</td>\n",
       "      <td>2</td>\n",
       "      <td>0</td>\n",
       "    </tr>\n",
       "    <tr>\n",
       "      <th>...</th>\n",
       "      <td>...</td>\n",
       "      <td>...</td>\n",
       "      <td>...</td>\n",
       "      <td>...</td>\n",
       "      <td>...</td>\n",
       "      <td>...</td>\n",
       "      <td>...</td>\n",
       "      <td>...</td>\n",
       "      <td>...</td>\n",
       "      <td>...</td>\n",
       "      <td>...</td>\n",
       "      <td>...</td>\n",
       "      <td>...</td>\n",
       "      <td>...</td>\n",
       "      <td>...</td>\n",
       "      <td>...</td>\n",
       "      <td>...</td>\n",
       "      <td>...</td>\n",
       "      <td>...</td>\n",
       "      <td>...</td>\n",
       "      <td>...</td>\n",
       "    </tr>\n",
       "    <tr>\n",
       "      <th>2115</th>\n",
       "      <td>05/27/2021</td>\n",
       "      <td>NaN</td>\n",
       "      <td>5</td>\n",
       "      <td>21</td>\n",
       "      <td>5</td>\n",
       "      <td>2021</td>\n",
       "      <td>NaN</td>\n",
       "      <td>0</td>\n",
       "      <td>0</td>\n",
       "      <td>0</td>\n",
       "      <td>...</td>\n",
       "      <td>433057</td>\n",
       "      <td>391962</td>\n",
       "      <td>311870</td>\n",
       "      <td>231777</td>\n",
       "      <td>0</td>\n",
       "      <td>0</td>\n",
       "      <td>0</td>\n",
       "      <td>0</td>\n",
       "      <td>0</td>\n",
       "      <td>0</td>\n",
       "    </tr>\n",
       "    <tr>\n",
       "      <th>2116</th>\n",
       "      <td>05/30/2021</td>\n",
       "      <td>NaN</td>\n",
       "      <td>1</td>\n",
       "      <td>22</td>\n",
       "      <td>5</td>\n",
       "      <td>2021</td>\n",
       "      <td>NaN</td>\n",
       "      <td>0</td>\n",
       "      <td>0</td>\n",
       "      <td>0</td>\n",
       "      <td>...</td>\n",
       "      <td>433057</td>\n",
       "      <td>391962</td>\n",
       "      <td>311870</td>\n",
       "      <td>231777</td>\n",
       "      <td>0</td>\n",
       "      <td>0</td>\n",
       "      <td>0</td>\n",
       "      <td>0</td>\n",
       "      <td>0</td>\n",
       "      <td>0</td>\n",
       "    </tr>\n",
       "    <tr>\n",
       "      <th>2117</th>\n",
       "      <td>05/31/2021</td>\n",
       "      <td>NaN</td>\n",
       "      <td>2</td>\n",
       "      <td>22</td>\n",
       "      <td>5</td>\n",
       "      <td>2021</td>\n",
       "      <td>NaN</td>\n",
       "      <td>1</td>\n",
       "      <td>0</td>\n",
       "      <td>0</td>\n",
       "      <td>...</td>\n",
       "      <td>433057</td>\n",
       "      <td>391962</td>\n",
       "      <td>311870</td>\n",
       "      <td>231777</td>\n",
       "      <td>0</td>\n",
       "      <td>0</td>\n",
       "      <td>0</td>\n",
       "      <td>0</td>\n",
       "      <td>0</td>\n",
       "      <td>0</td>\n",
       "    </tr>\n",
       "    <tr>\n",
       "      <th>2118</th>\n",
       "      <td>06/01/2021</td>\n",
       "      <td>NaN</td>\n",
       "      <td>3</td>\n",
       "      <td>22</td>\n",
       "      <td>6</td>\n",
       "      <td>2021</td>\n",
       "      <td>NaN</td>\n",
       "      <td>0</td>\n",
       "      <td>0</td>\n",
       "      <td>0</td>\n",
       "      <td>...</td>\n",
       "      <td>433057</td>\n",
       "      <td>391962</td>\n",
       "      <td>311870</td>\n",
       "      <td>231777</td>\n",
       "      <td>0</td>\n",
       "      <td>0</td>\n",
       "      <td>0</td>\n",
       "      <td>0</td>\n",
       "      <td>0</td>\n",
       "      <td>0</td>\n",
       "    </tr>\n",
       "    <tr>\n",
       "      <th>2119</th>\n",
       "      <td>06/02/2021</td>\n",
       "      <td>NaN</td>\n",
       "      <td>4</td>\n",
       "      <td>22</td>\n",
       "      <td>6</td>\n",
       "      <td>2021</td>\n",
       "      <td>NaN</td>\n",
       "      <td>0</td>\n",
       "      <td>0</td>\n",
       "      <td>0</td>\n",
       "      <td>...</td>\n",
       "      <td>433057</td>\n",
       "      <td>381963</td>\n",
       "      <td>311870</td>\n",
       "      <td>231777</td>\n",
       "      <td>0</td>\n",
       "      <td>0</td>\n",
       "      <td>0</td>\n",
       "      <td>0</td>\n",
       "      <td>0</td>\n",
       "      <td>0</td>\n",
       "    </tr>\n",
       "  </tbody>\n",
       "</table>\n",
       "<p>2120 rows × 35 columns</p>\n",
       "</div>"
      ],
      "text/plain": [
       "            DATE WDW_TICKET_SEASON  DAYOFWEEK  WEEKOFYEAR  MONTHOFYEAR  YEAR  \\\n",
       "0     01/01/2015               NaN          5           0            1  2015   \n",
       "1     01/02/2015               NaN          6           0            1  2015   \n",
       "2     01/03/2015               NaN          7           0            1  2015   \n",
       "3     01/04/2015               NaN          1           1            1  2015   \n",
       "4     01/05/2015               NaN          2           1            1  2015   \n",
       "...          ...               ...        ...         ...          ...   ...   \n",
       "2115  05/27/2021               NaN          5          21            5  2021   \n",
       "2116  05/30/2021               NaN          1          22            5  2021   \n",
       "2117  05/31/2021               NaN          2          22            5  2021   \n",
       "2118  06/01/2021               NaN          3          22            6  2021   \n",
       "2119  06/02/2021               NaN          4          22            6  2021   \n",
       "\n",
       "              SEASON  HOLIDAY  WDWevent  WDWrace  ...  CapacityLost_MK  \\\n",
       "0     CHRISTMAS PEAK        1         0        0  ...           352865   \n",
       "1          CHRISTMAS        0         0        0  ...           352865   \n",
       "2          CHRISTMAS        0         0        0  ...           352865   \n",
       "3          CHRISTMAS        0         0        0  ...           352865   \n",
       "4          CHRISTMAS        0         0        0  ...           354065   \n",
       "...              ...      ...       ...      ...  ...              ...   \n",
       "2115             NaN        0         0        0  ...           433057   \n",
       "2116             NaN        0         0        0  ...           433057   \n",
       "2117             NaN        1         0        0  ...           433057   \n",
       "2118             NaN        0         0        0  ...           433057   \n",
       "2119             NaN        0         0        0  ...           433057   \n",
       "\n",
       "     CapacityLost_EP  CapacityLost_HS  CapacityLost_AK  MKPRDDAY  MKFIREWK  \\\n",
       "0             325168           203780           210779         2         1   \n",
       "1             325168           203780           210779         2         1   \n",
       "2             325168           203780           210779         2         1   \n",
       "3             325168           203780           210779         1         1   \n",
       "4             325168           213779           210779         1         1   \n",
       "...              ...              ...              ...       ...       ...   \n",
       "2115          391962           311870           231777         0         0   \n",
       "2116          391962           311870           231777         0         0   \n",
       "2117          391962           311870           231777         0         0   \n",
       "2118          391962           311870           231777         0         0   \n",
       "2119          381963           311870           231777         0         0   \n",
       "\n",
       "      EPFIREWK  HSFIREWK  HSSHWNGT  AKSHWNGT  \n",
       "0            1         0         3         0  \n",
       "1            1         0         3         0  \n",
       "2            1         0         2         0  \n",
       "3            1         0         2         0  \n",
       "4            1         0         2         0  \n",
       "...        ...       ...       ...       ...  \n",
       "2115         0         0         0         0  \n",
       "2116         0         0         0         0  \n",
       "2117         0         0         0         0  \n",
       "2118         0         0         0         0  \n",
       "2119         0         0         0         0  \n",
       "\n",
       "[2120 rows x 35 columns]"
      ]
     },
     "execution_count": 7,
     "metadata": {},
     "output_type": "execute_result"
    }
   ],
   "source": [
    "disney2"
   ]
  },
  {
   "cell_type": "markdown",
   "metadata": {},
   "source": [
    "Este será el DF que usaremos como punto de partida para la limpieza de los datos; lo **guardamos en un nuevo CSV**"
   ]
  },
  {
   "cell_type": "code",
   "execution_count": 8,
   "metadata": {},
   "outputs": [],
   "source": [
    "disney2.to_csv('metadata2.csv',index = False)"
   ]
  },
  {
   "cell_type": "markdown",
   "metadata": {},
   "source": [
    "### 5 .- Limpieza de datos"
   ]
  },
  {
   "cell_type": "markdown",
   "metadata": {},
   "source": [
    "#### 5.1 .- Atributos numéricos y categóricos"
   ]
  },
  {
   "cell_type": "code",
   "execution_count": 9,
   "metadata": {},
   "outputs": [
    {
     "name": "stdout",
     "output_type": "stream",
     "text": [
      "['DAYOFWEEK' 'WEEKOFYEAR' 'MONTHOFYEAR' 'YEAR' 'HOLIDAY' 'WDWevent'\n",
      " 'WDWrace' 'WDWMEANTEMP' 'MKEMHMORN' 'MKEMHEVE' 'MKHOURSEMH' 'EPEMHMORN'\n",
      " 'EPEMHEVE' 'EPHOURSEMH' 'HSEMHMORN' 'HSEMHEVE' 'HSHOURSEMH' 'AKEMHMORN'\n",
      " 'AKEMHEVE' 'AKHOURSEMH' 'WEATHER_WDWPRECIP' 'CapacityLost_MK'\n",
      " 'CapacityLost_EP' 'CapacityLost_HS' 'CapacityLost_AK' 'MKPRDDAY'\n",
      " 'MKFIREWK' 'EPFIREWK' 'HSFIREWK' 'HSSHWNGT' 'AKSHWNGT']\n",
      "\n",
      "\n",
      "31 atributos son numéricos\n"
     ]
    }
   ],
   "source": [
    "disney2_numeric = disney2.select_dtypes(include=[np.number])\n",
    "att_numericos = disney2_numeric.columns.values\n",
    "print(att_numericos)\n",
    "print('\\n')\n",
    "print(len(att_numericos),'atributos son numéricos')"
   ]
  },
  {
   "cell_type": "code",
   "execution_count": 10,
   "metadata": {},
   "outputs": [
    {
     "name": "stdout",
     "output_type": "stream",
     "text": [
      "['DATE' 'WDW_TICKET_SEASON' 'SEASON' 'inSession']\n",
      "\n",
      "\n",
      "4 atributos son categóricos\n"
     ]
    }
   ],
   "source": [
    "disney2_categorico = disney2.select_dtypes(exclude=[np.number])\n",
    "att_categorico = disney2_categorico.columns.values\n",
    "print(att_categorico)\n",
    "print('\\n')\n",
    "print(len(att_categorico),'atributos son categóricos')"
   ]
  },
  {
   "cell_type": "markdown",
   "metadata": {},
   "source": [
    "#### 5.2. .- Nueva selección de atributos"
   ]
  },
  {
   "cell_type": "markdown",
   "metadata": {},
   "source": [
    "Agrupando los atributos en categóricos y numéricos, vemos que el atributo 'DATE' no aporta información relevante, ya que contamos con atributos como: 'DAYOFWEEK' 'WEEKOFYEAR' 'MONTHOFYEAR' 'YEAR'; así que lo eliminamos del DF"
   ]
  },
  {
   "cell_type": "code",
   "execution_count": 11,
   "metadata": {},
   "outputs": [],
   "source": [
    "disney3 = disney2.drop(['DATE'],axis = 1)"
   ]
  },
  {
   "cell_type": "code",
   "execution_count": 12,
   "metadata": {},
   "outputs": [
    {
     "name": "stdout",
     "output_type": "stream",
     "text": [
      "(2120, 34)\n"
     ]
    }
   ],
   "source": [
    "print(disney3.shape)"
   ]
  },
  {
   "cell_type": "markdown",
   "metadata": {},
   "source": [
    "Por otro lado, el atributo 'inSession' lo transformamos en un valor numérico, para obtener su semántica real; un valor porcentual."
   ]
  },
  {
   "cell_type": "code",
   "execution_count": 13,
   "metadata": {},
   "outputs": [],
   "source": [
    "disney3['inSession'] = disney3['inSession'].str.rstrip('%').astype('float')"
   ]
  },
  {
   "cell_type": "code",
   "execution_count": 14,
   "metadata": {},
   "outputs": [
    {
     "data": {
      "text/plain": [
       "0        0.0\n",
       "1        0.0\n",
       "2        0.0\n",
       "3       67.0\n",
       "4       67.0\n",
       "        ... \n",
       "2115     NaN\n",
       "2116     NaN\n",
       "2117     NaN\n",
       "2118     NaN\n",
       "2119     NaN\n",
       "Name: inSession, Length: 2120, dtype: float64"
      ]
     },
     "execution_count": 14,
     "metadata": {},
     "output_type": "execute_result"
    }
   ],
   "source": [
    "disney3.inSession"
   ]
  },
  {
   "cell_type": "markdown",
   "metadata": {},
   "source": [
    "Revisamos nuevamente como quedan categorizados los atributos"
   ]
  },
  {
   "cell_type": "code",
   "execution_count": 15,
   "metadata": {},
   "outputs": [
    {
     "name": "stdout",
     "output_type": "stream",
     "text": [
      "['DAYOFWEEK' 'WEEKOFYEAR' 'MONTHOFYEAR' 'YEAR' 'HOLIDAY' 'WDWevent'\n",
      " 'WDWrace' 'WDWMEANTEMP' 'inSession' 'MKEMHMORN' 'MKEMHEVE' 'MKHOURSEMH'\n",
      " 'EPEMHMORN' 'EPEMHEVE' 'EPHOURSEMH' 'HSEMHMORN' 'HSEMHEVE' 'HSHOURSEMH'\n",
      " 'AKEMHMORN' 'AKEMHEVE' 'AKHOURSEMH' 'WEATHER_WDWPRECIP' 'CapacityLost_MK'\n",
      " 'CapacityLost_EP' 'CapacityLost_HS' 'CapacityLost_AK' 'MKPRDDAY'\n",
      " 'MKFIREWK' 'EPFIREWK' 'HSFIREWK' 'HSSHWNGT' 'AKSHWNGT']\n",
      "\n",
      "\n",
      "32 atributos son numéricos\n"
     ]
    }
   ],
   "source": [
    "disney3_numeric = disney3.select_dtypes(include=[np.number])\n",
    "att_numericos = disney3_numeric.columns.values\n",
    "print(att_numericos)\n",
    "print('\\n')\n",
    "print(len(att_numericos),'atributos son numéricos')"
   ]
  },
  {
   "cell_type": "code",
   "execution_count": 16,
   "metadata": {},
   "outputs": [
    {
     "name": "stdout",
     "output_type": "stream",
     "text": [
      "['WDW_TICKET_SEASON' 'SEASON']\n",
      "\n",
      "\n",
      "2 atributos son categóricos\n"
     ]
    }
   ],
   "source": [
    "disney3_categorico = disney3.select_dtypes(exclude=[np.number])\n",
    "att_categorico = disney3_categorico.columns.values\n",
    "print(att_categorico)\n",
    "print('\\n')\n",
    "print(len(att_categorico),'atributos son categóricos')"
   ]
  },
  {
   "cell_type": "markdown",
   "metadata": {},
   "source": [
    "#### 5.3 .- Revisión de Missing Values"
   ]
  },
  {
   "cell_type": "markdown",
   "metadata": {},
   "source": [
    "Con los 34 atributos que hemos escogido para el modelo, procedemos a revisar la consistencia de los datos en cada instancia"
   ]
  },
  {
   "cell_type": "code",
   "execution_count": 17,
   "metadata": {},
   "outputs": [
    {
     "data": {
      "text/plain": [
       "<AxesSubplot:>"
      ]
     },
     "execution_count": 17,
     "metadata": {},
     "output_type": "execute_result"
    },
    {
     "data": {
      "image/png": "[encoded data removed]",
      "text/plain": [
       "<Figure size 864x576 with 2 Axes>"
      ]
     },
     "metadata": {
      "needs_background": "light"
     },
     "output_type": "display_data"
    }
   ],
   "source": [
    "cols = disney3.columns\n",
    "colours = ['#000099', '#ffff00']\n",
    "sns.heatmap(disney3[cols].isnull(), cmap=sns.color_palette(colours))"
   ]
  },
  {
   "cell_type": "code",
   "execution_count": 18,
   "metadata": {},
   "outputs": [
    {
     "name": "stdout",
     "output_type": "stream",
     "text": [
      "WDW_TICKET_SEASON - 43%\n",
      "DAYOFWEEK - 0%\n",
      "WEEKOFYEAR - 0%\n",
      "MONTHOFYEAR - 0%\n",
      "YEAR - 0%\n",
      "SEASON - 14%\n",
      "HOLIDAY - 0%\n",
      "WDWevent - 0%\n",
      "WDWrace - 0%\n",
      "WDWMEANTEMP - 0%\n",
      "inSession - 2%\n",
      "MKEMHMORN - 0%\n",
      "MKEMHEVE - 0%\n",
      "MKHOURSEMH - 0%\n",
      "EPEMHMORN - 0%\n",
      "EPEMHEVE - 0%\n",
      "EPHOURSEMH - 0%\n",
      "HSEMHMORN - 0%\n",
      "HSEMHEVE - 0%\n",
      "HSHOURSEMH - 0%\n",
      "AKEMHMORN - 0%\n",
      "AKEMHEVE - 0%\n",
      "AKHOURSEMH - 0%\n",
      "WEATHER_WDWPRECIP - 0%\n",
      "CapacityLost_MK - 0%\n",
      "CapacityLost_EP - 0%\n",
      "CapacityLost_HS - 0%\n",
      "CapacityLost_AK - 0%\n",
      "MKPRDDAY - 0%\n",
      "MKFIREWK - 0%\n",
      "EPFIREWK - 0%\n",
      "HSFIREWK - 0%\n",
      "HSSHWNGT - 0%\n",
      "AKSHWNGT - 0%\n"
     ]
    }
   ],
   "source": [
    "for col in disney3.columns:\n",
    "    pct_missing = np.mean(disney3[col].isnull())\n",
    "    print('{} - {}%'.format(col, round(pct_missing*100)))"
   ]
  },
  {
   "cell_type": "markdown",
   "metadata": {},
   "source": [
    "Del anterior mapa de calor y % de missing values, podemos obtener varias conclusiones:\n",
    "- De los 181 atributos originales, y que presentaban gran número de valores NaN; los 34 escogidos para el modelo ofrecen datos consistentes (casi todos con 0% de missing values)\n",
    "- El atributo 'WDW_TICKET_SEASON'. posee una gran cantidad de NaN (43%), y es un dato muy importante para el estudio, porque contiene la información de la categoría de precios (Peak, Regular, Value). Por lo tanto, no podemos prescindir del mismo y debemos reemplazar estos valores perdidos\n",
    "- El atributo 'inSession' presenta solo un 2% de missing values (42 instancias), por lo que sustituiremos esos NaN por la mediana de la muestra.\n",
    "- ¿Existe relación entre precio de los tickets ('WDW_TICKET_SEASON') y la temporada del año ('SEASON')?; si fuese así, pudiesemos prescindir de esta última ,que presenta 14% de missing values"
   ]
  },
  {
   "cell_type": "markdown",
   "metadata": {},
   "source": [
    "##### 5.3.1. Quitar NaN en atributo 'InSession'"
   ]
  },
  {
   "cell_type": "markdown",
   "metadata": {},
   "source": [
    "Primero vamos a revisar si existen Outliers, para determinar si sustituimos los NaN, por la media o por la mediana"
   ]
  },
  {
   "cell_type": "code",
   "execution_count": 19,
   "metadata": {},
   "outputs": [
    {
     "data": {
      "text/plain": [
       "<AxesSubplot:>"
      ]
     },
     "execution_count": 19,
     "metadata": {},
     "output_type": "execute_result"
    },
    {
     "data": {
      "image/png": "[encoded data removed]",
      "text/plain": [
       "<Figure size 864x576 with 1 Axes>"
      ]
     },
     "metadata": {
      "needs_background": "light"
     },
     "output_type": "display_data"
    }
   ],
   "source": [
    "disney3.boxplot(column=['inSession'],notch = True)"
   ]
  },
  {
   "cell_type": "code",
   "execution_count": 20,
   "metadata": {},
   "outputs": [
    {
     "data": {
      "text/plain": [
       "86.0"
      ]
     },
     "execution_count": 20,
     "metadata": {},
     "output_type": "execute_result"
    }
   ],
   "source": [
    "disney3.inSession.median()"
   ]
  },
  {
   "cell_type": "code",
   "execution_count": 21,
   "metadata": {},
   "outputs": [
    {
     "data": {
      "text/plain": [
       "67.39009139009138"
      ]
     },
     "execution_count": 21,
     "metadata": {},
     "output_type": "execute_result"
    }
   ],
   "source": [
    "disney3.inSession.mean()"
   ]
  },
  {
   "cell_type": "markdown",
   "metadata": {},
   "source": [
    "No hay datos Outliers, y para no alterar el comportamiento del atributo, usaremos la mediana para los valores NaN"
   ]
  },
  {
   "cell_type": "code",
   "execution_count": 22,
   "metadata": {},
   "outputs": [],
   "source": [
    "mediana = disney3['inSession'].median()\n",
    "disney3['inSession'] = disney3['inSession'].fillna(mediana)"
   ]
  },
  {
   "cell_type": "code",
   "execution_count": 23,
   "metadata": {},
   "outputs": [
    {
     "data": {
      "text/plain": [
       "86.0"
      ]
     },
     "execution_count": 23,
     "metadata": {},
     "output_type": "execute_result"
    }
   ],
   "source": [
    "disney3.inSession.median()"
   ]
  },
  {
   "cell_type": "code",
   "execution_count": 24,
   "metadata": {},
   "outputs": [
    {
     "data": {
      "text/plain": [
       "67.75"
      ]
     },
     "execution_count": 24,
     "metadata": {},
     "output_type": "execute_result"
    }
   ],
   "source": [
    "disney3.inSession.mean()"
   ]
  },
  {
   "cell_type": "code",
   "execution_count": 25,
   "metadata": {},
   "outputs": [
    {
     "name": "stdout",
     "output_type": "stream",
     "text": [
      "inSession - 0%\n"
     ]
    }
   ],
   "source": [
    "perdido = np.mean(disney3['inSession'].isnull())\n",
    "print('{} - {}%'.format('inSession', round(perdido*100)))"
   ]
  },
  {
   "cell_type": "markdown",
   "metadata": {},
   "source": [
    "Completando los Nan, con la mediana, no alteramos los estadísticos del atributos; se comprueba que no quedan valores NaN."
   ]
  },
  {
   "cell_type": "markdown",
   "metadata": {},
   "source": [
    "##### 5.3.2 .- Quitar NaN en atributo 'WDW_TICKET_SEASON'"
   ]
  },
  {
   "cell_type": "markdown",
   "metadata": {},
   "source": [
    "En un primer análisis, se ha intentado relacionar esta columna, con alguna otra del DF, que permitiese asociar alguno de los tres valores de esta categoría; al no encontrar nada en concreto, hemos usado el calendario oficial del 2021, para relacionar las semanas con valores NaN en este atributo\n",
    "\n",
    "[Calendario WDW 2021](http://www.disneyticketcalendar.com/wdw.pdf)"
   ]
  },
  {
   "cell_type": "markdown",
   "metadata": {},
   "source": [
    "**Aunque no es el método mas eficiente**, no se ha encontrado una función que haga esta sustitución, por medio de un bucle, debido a la asignación del calendario anterior. Por lo tanto, se opta por sustituirlos directamente el el fichero .csv y cargar un nuevo DataFrame ('**metadata4.csv**')\n",
    "\n",
    "Durante este paso manual, se elimina una fila que se observó tenía valores incorrectos"
   ]
  },
  {
   "cell_type": "code",
   "execution_count": 26,
   "metadata": {},
   "outputs": [],
   "source": [
    "disney3.to_csv('metadata3.csv',index = False)"
   ]
  },
  {
   "cell_type": "code",
   "execution_count": 27,
   "metadata": {},
   "outputs": [],
   "source": [
    "disney4 = pd.read_csv('metadata4.csv', sep = ';')"
   ]
  },
  {
   "cell_type": "markdown",
   "metadata": {},
   "source": [
    "Comprobamos el nuevo DF"
   ]
  },
  {
   "cell_type": "code",
   "execution_count": 28,
   "metadata": {},
   "outputs": [
    {
     "name": "stdout",
     "output_type": "stream",
     "text": [
      "(2119, 34)\n"
     ]
    }
   ],
   "source": [
    "print(disney4.shape)"
   ]
  },
  {
   "cell_type": "code",
   "execution_count": 29,
   "metadata": {},
   "outputs": [
    {
     "name": "stdout",
     "output_type": "stream",
     "text": [
      "['DAYOFWEEK' 'WEEKOFYEAR' 'MONTHOFYEAR' 'YEAR' 'HOLIDAY' 'WDWevent'\n",
      " 'WDWrace' 'WDWMEANTEMP' 'inSession' 'MKEMHMORN' 'MKEMHEVE' 'MKHOURSEMH'\n",
      " 'EPEMHMORN' 'EPEMHEVE' 'EPHOURSEMH' 'HSEMHMORN' 'HSEMHEVE' 'HSHOURSEMH'\n",
      " 'AKEMHMORN' 'AKEMHEVE' 'AKHOURSEMH' 'WEATHER_WDWPRECIP' 'CapacityLost_MK'\n",
      " 'CapacityLost_EP' 'CapacityLost_HS' 'CapacityLost_AK' 'MKPRDDAY'\n",
      " 'MKFIREWK' 'EPFIREWK' 'HSFIREWK' 'HSSHWNGT' 'AKSHWNGT']\n",
      "\n",
      "\n",
      "32 atributos son numéricos\n"
     ]
    }
   ],
   "source": [
    "disney4_numeric = disney4.select_dtypes(include=[np.number])\n",
    "att_numericos = disney4_numeric.columns.values\n",
    "print(att_numericos)\n",
    "print('\\n')\n",
    "print(len(att_numericos),'atributos son numéricos')"
   ]
  },
  {
   "cell_type": "code",
   "execution_count": 30,
   "metadata": {},
   "outputs": [
    {
     "name": "stdout",
     "output_type": "stream",
     "text": [
      "['WDW_TICKET_SEASON' 'SEASON']\n",
      "\n",
      "\n",
      "2 atributos son categóricos\n"
     ]
    }
   ],
   "source": [
    "disney4_categorico = disney4.select_dtypes(exclude=[np.number])\n",
    "att_categorico = disney4_categorico.columns.values\n",
    "print(att_categorico)\n",
    "print('\\n')\n",
    "print(len(att_categorico),'atributos son categóricos')"
   ]
  },
  {
   "cell_type": "code",
   "execution_count": 31,
   "metadata": {},
   "outputs": [
    {
     "name": "stdout",
     "output_type": "stream",
     "text": [
      "WDW_TICKET_SEASON - 0%\n",
      "DAYOFWEEK - 0%\n",
      "WEEKOFYEAR - 0%\n",
      "MONTHOFYEAR - 0%\n",
      "YEAR - 0%\n",
      "SEASON - 14%\n",
      "HOLIDAY - 0%\n",
      "WDWevent - 0%\n",
      "WDWrace - 0%\n",
      "WDWMEANTEMP - 0%\n",
      "inSession - 0%\n",
      "MKEMHMORN - 0%\n",
      "MKEMHEVE - 0%\n",
      "MKHOURSEMH - 0%\n",
      "EPEMHMORN - 0%\n",
      "EPEMHEVE - 0%\n",
      "EPHOURSEMH - 0%\n",
      "HSEMHMORN - 0%\n",
      "HSEMHEVE - 0%\n",
      "HSHOURSEMH - 0%\n",
      "AKEMHMORN - 0%\n",
      "AKEMHEVE - 0%\n",
      "AKHOURSEMH - 0%\n",
      "WEATHER_WDWPRECIP - 0%\n",
      "CapacityLost_MK - 0%\n",
      "CapacityLost_EP - 0%\n",
      "CapacityLost_HS - 0%\n",
      "CapacityLost_AK - 0%\n",
      "MKPRDDAY - 0%\n",
      "MKFIREWK - 0%\n",
      "EPFIREWK - 0%\n",
      "HSFIREWK - 0%\n",
      "HSSHWNGT - 0%\n",
      "AKSHWNGT - 0%\n"
     ]
    }
   ],
   "source": [
    "for col in disney4.columns:\n",
    "    pct_missing = np.mean(disney4[col].isnull())\n",
    "    print('{} - {}%'.format(col, round(pct_missing*100)))"
   ]
  },
  {
   "cell_type": "code",
   "execution_count": 32,
   "metadata": {},
   "outputs": [
    {
     "data": {
      "text/plain": [
       "<AxesSubplot:>"
      ]
     },
     "execution_count": 32,
     "metadata": {},
     "output_type": "execute_result"
    },
    {
     "data": {
      "image/png": "[encoded data removed]",
      "text/plain": [
       "<Figure size 864x576 with 2 Axes>"
      ]
     },
     "metadata": {
      "needs_background": "light"
     },
     "output_type": "display_data"
    }
   ],
   "source": [
    "cols = disney4.columns\n",
    "colours = ['#000099', '#ffff00']\n",
    "sns.heatmap(disney4[cols].isnull(), cmap=sns.color_palette(colours))"
   ]
  },
  {
   "cell_type": "markdown",
   "metadata": {},
   "source": [
    "A pesar que el atributo 'WDWMEANTEMP' presenta valores NaN muy bajos, usamos la misma técnica de asignar la mediana para completar los mismos."
   ]
  },
  {
   "cell_type": "code",
   "execution_count": 33,
   "metadata": {},
   "outputs": [],
   "source": [
    "mediana2 = disney4['WDWMEANTEMP'].median()\n",
    "disney4['WDWMEANTEMP'] = disney4['WDWMEANTEMP'].fillna(mediana2)"
   ]
  },
  {
   "cell_type": "code",
   "execution_count": 34,
   "metadata": {},
   "outputs": [
    {
     "data": {
      "text/plain": [
       "<AxesSubplot:>"
      ]
     },
     "execution_count": 34,
     "metadata": {},
     "output_type": "execute_result"
    },
    {
     "data": {
      "image/png": "[encoded data removed]",
      "text/plain": [
       "<Figure size 864x576 with 2 Axes>"
      ]
     },
     "metadata": {
      "needs_background": "light"
     },
     "output_type": "display_data"
    }
   ],
   "source": [
    "cols = disney4.columns\n",
    "colours = ['#000099', '#ffff00']\n",
    "sns.heatmap(disney4[cols].isnull(), cmap=sns.color_palette(colours))"
   ]
  },
  {
   "cell_type": "markdown",
   "metadata": {},
   "source": [
    "##### 5.3.3 .- Atributo 'SEASON'"
   ]
  },
  {
   "cell_type": "markdown",
   "metadata": {},
   "source": [
    "Nos queda entonces el tratamiento de los Missing Values del atributo 'SEASON', en este caso, ejecutaremos una doble revisión:\n",
    "- Por un lado estandarizamos las temporadas del año, en las cuatros estaciones, para hacerlo mas universal. Ya que el DF orginal, viene con muchas fechas específicas de USA\n",
    "- Con el recorrido de ls semanas ('WEEKOFYEAR'), limpiamos los Nan"
   ]
  },
  {
   "cell_type": "code",
   "execution_count": 35,
   "metadata": {},
   "outputs": [],
   "source": [
    "for i in range(0,len(disney4)):\n",
    "    if (0 <= disney4.loc[i,'WEEKOFYEAR'] <= 7):\n",
    "        disney4.loc[i,'SEASON'] = 'INVIERNO'\n",
    "    elif (8 <= disney4.loc[i,'WEEKOFYEAR'] <= 26):\n",
    "        disney4.loc[i,'SEASON'] = 'PRIMAVERA'\n",
    "    elif (27 <= disney4.loc[i,'WEEKOFYEAR'] <= 32):\n",
    "        disney4.loc[i,'SEASON'] = 'VERANO'\n",
    "    elif (33 <= disney4.loc[i,'WEEKOFYEAR'] <= 48):\n",
    "        disney4.loc[i,'SEASON'] = 'OTONYO'\n",
    "    elif (49 <= disney4.loc[i,'WEEKOFYEAR'] <= 53):\n",
    "        disney4.loc[i,'SEASON'] = 'INVIERNO'\n",
    "        "
   ]
  },
  {
   "cell_type": "markdown",
   "metadata": {},
   "source": [
    "Y por último comprobamos que ya no queden valores NaN en el Data Frame"
   ]
  },
  {
   "cell_type": "code",
   "execution_count": 36,
   "metadata": {},
   "outputs": [
    {
     "name": "stdout",
     "output_type": "stream",
     "text": [
      "WDW_TICKET_SEASON - 0%\n",
      "DAYOFWEEK - 0%\n",
      "WEEKOFYEAR - 0%\n",
      "MONTHOFYEAR - 0%\n",
      "YEAR - 0%\n",
      "SEASON - 0%\n",
      "HOLIDAY - 0%\n",
      "WDWevent - 0%\n",
      "WDWrace - 0%\n",
      "WDWMEANTEMP - 0%\n",
      "inSession - 0%\n",
      "MKEMHMORN - 0%\n",
      "MKEMHEVE - 0%\n",
      "MKHOURSEMH - 0%\n",
      "EPEMHMORN - 0%\n",
      "EPEMHEVE - 0%\n",
      "EPHOURSEMH - 0%\n",
      "HSEMHMORN - 0%\n",
      "HSEMHEVE - 0%\n",
      "HSHOURSEMH - 0%\n",
      "AKEMHMORN - 0%\n",
      "AKEMHEVE - 0%\n",
      "AKHOURSEMH - 0%\n",
      "WEATHER_WDWPRECIP - 0%\n",
      "CapacityLost_MK - 0%\n",
      "CapacityLost_EP - 0%\n",
      "CapacityLost_HS - 0%\n",
      "CapacityLost_AK - 0%\n",
      "MKPRDDAY - 0%\n",
      "MKFIREWK - 0%\n",
      "EPFIREWK - 0%\n",
      "HSFIREWK - 0%\n",
      "HSSHWNGT - 0%\n",
      "AKSHWNGT - 0%\n"
     ]
    }
   ],
   "source": [
    "for col in disney4.columns:\n",
    "    pct_missing = np.mean(disney4[col].isnull())\n",
    "    print('{} - {}%'.format(col, round(pct_missing*100)))"
   ]
  },
  {
   "cell_type": "markdown",
   "metadata": {},
   "source": [
    "Exportarmos la versión sin Null del DataFrame"
   ]
  },
  {
   "cell_type": "code",
   "execution_count": 37,
   "metadata": {},
   "outputs": [],
   "source": [
    "disney4.to_csv('metadata5.csv',index = False)"
   ]
  },
  {
   "cell_type": "markdown",
   "metadata": {},
   "source": [
    "#### 5.4. Normalización de la información"
   ]
  },
  {
   "cell_type": "markdown",
   "metadata": {},
   "source": [
    "En este apartado ejecutaremos varias tareas para normalizar datos de varios atributos y estandarizar formatos.\n",
    "- El atributo (**'WDWMEANTEMP'**), se encuentra en ºF; por lo tanto hay que normalizar estos valores a ºC para usar el formato europeo.\n",
    "- El atributo (**'inSession'**) refleja el valor porcentual de visitas escolares; este dato es significativo, porque se traduce en un aumento considerable de los visitantes. Por lo tanto haremos una normalización entre 0 y 1, donde 0 = no hay colegios en los parques y 1 = alta afluencia de colegios en los parques\n",
    "- Los atributos (**'CapacityLost_x'**) marcan la capacidad perdida por hora en los parques, por fallo en las atracciones. Por lo tanto es un dato significativo, que nos puede decir, en que período de año, hay mas fallos y por lo tanto no es atractivo realizar la visita a los parques. Normalizaremos igualmente este atributo entre 0 y 1, donde 0 = minima ausencia de fallos y 1 = máxima presencia de fallos.\n",
    "- Adicionalmente con el atributo anterior, se buscará unificar el valor de las 4 columnas (una por cada parque del resort), en la media aritmética; ya que para el objeto de este estudio, aporta mas el valor agrupado.\n",
    "- La cantidad de horas que abren los parques es también un valor interesante para valorar en el modelo; para normalizar este valor, ya que cada uno tiene un horario distinto; agruparemos las horas totales de apertura, e igualmente normalizaremos vs el día con mayor número de horas"
   ]
  },
  {
   "cell_type": "code",
   "execution_count": 38,
   "metadata": {},
   "outputs": [],
   "source": [
    "session_max = disney4.inSession.max()\n",
    "for i in range(0,len(disney4)):\n",
    "    x = disney4.loc[i,'WDWMEANTEMP']\n",
    "    disney4.loc[i,'WDWMEANTEMP'] = round((x - 32) * 5/9,2) # cambio a ºC\n",
    "    disney4.loc[i,'inSession'] = round((disney4.loc[i,'inSession'])/session_max,2) # normalizar inSession"
   ]
  },
  {
   "cell_type": "code",
   "execution_count": 39,
   "metadata": {},
   "outputs": [],
   "source": [
    "#### Normalización del atributo de Capacidad\n",
    "disney4['TotalCapacityLost'] = (disney4.CapacityLost_AK + disney4.CapacityLost_EP + disney4.CapacityLost_HS +\n",
    "disney4.CapacityLost_MK)/4\n",
    "capacity_max = disney4.TotalCapacityLost.max()\n",
    "for i in range(0,len(disney4)):\n",
    "    disney4.loc[i,'TotalCapacityLost'] = round((disney4.loc[i,'TotalCapacityLost'])/capacity_max,2)\n",
    "### Borramos las columnas de Capacity_Lost, que ya no son necesarias en el DF"
   ]
  },
  {
   "cell_type": "code",
   "execution_count": 40,
   "metadata": {},
   "outputs": [],
   "source": [
    "### Normalización del atributo de horas de apertura\n",
    "disney4['TotalHoras'] = (disney4.MKHOURSEMH + disney4.EPHOURSEMH + disney4.HSHOURSEMH + disney4.AKHOURSEMH)/4\n",
    "apertura_max = disney4.TotalHoras.max()\n",
    "for i in range(0,len(disney4)):\n",
    "    disney4.loc[i,'TotalHoras'] = round((disney4.loc[i,'TotalHoras'])/apertura_max,2)"
   ]
  },
  {
   "cell_type": "markdown",
   "metadata": {},
   "source": [
    "Borramos columnas no necesarias, como ya hemos normalizado en un atributo de total de horas de apertura, eliminamos también las correspondientes a \"horas extras\" del parque, ya que sería un dato redundante"
   ]
  },
  {
   "cell_type": "code",
   "execution_count": 41,
   "metadata": {},
   "outputs": [],
   "source": [
    "disney5 = disney4.drop(['CapacityLost_AK','CapacityLost_EP','CapacityLost_HS','CapacityLost_MK','MKHOURSEMH',\n",
    "                        'EPHOURSEMH','HSHOURSEMH','AKHOURSEMH','MKEMHMORN','MKEMHEVE','EPEMHMORN',\n",
    "                        'EPEMHEVE','HSEMHMORN','HSEMHEVE','AKEMHMORN','AKEMHEVE'],axis = 1)"
   ]
  },
  {
   "cell_type": "code",
   "execution_count": 42,
   "metadata": {},
   "outputs": [
    {
     "data": {
      "text/plain": [
       "(2119, 20)"
      ]
     },
     "execution_count": 42,
     "metadata": {},
     "output_type": "execute_result"
    }
   ],
   "source": [
    "disney5.shape"
   ]
  },
  {
   "cell_type": "markdown",
   "metadata": {},
   "source": [
    "#### 5.5. Agrupación de atributos"
   ]
  },
  {
   "cell_type": "markdown",
   "metadata": {},
   "source": [
    "El DF tiene una serie de atributos, que representan, espectáculos adicionales en el parque, que puede aportar información al modelo, ya que para el visitante, son actividades extras que se puede realizar. Mientras más opciones hay, se puede disribuir mejor el tiempo entre atracciones y espectáculos.\n",
    "\n",
    "Agruparemos estos atributos, para tener un solo datos de desición en este campo."
   ]
  },
  {
   "cell_type": "code",
   "execution_count": 43,
   "metadata": {},
   "outputs": [],
   "source": [
    "disney5['extraEvents'] = disney5.MKPRDDAY + disney5.MKFIREWK + disney5.EPFIREWK + disney5.HSFIREWK + disney5.HSSHWNGT + disney5.AKSHWNGT"
   ]
  },
  {
   "cell_type": "code",
   "execution_count": 44,
   "metadata": {},
   "outputs": [],
   "source": [
    "disney6 = disney5.drop(['MKPRDDAY','MKFIREWK','EPFIREWK','HSFIREWK','HSSHWNGT','AKSHWNGT'],axis = 1)"
   ]
  },
  {
   "cell_type": "code",
   "execution_count": 45,
   "metadata": {},
   "outputs": [
    {
     "data": {
      "text/plain": [
       "(2119, 15)"
      ]
     },
     "execution_count": 45,
     "metadata": {},
     "output_type": "execute_result"
    }
   ],
   "source": [
    "disney6.shape"
   ]
  },
  {
   "cell_type": "markdown",
   "metadata": {},
   "source": [
    "#### 5.6. Revisar datos repetitivos"
   ]
  },
  {
   "cell_type": "markdown",
   "metadata": {},
   "source": [
    "Por último, valoramos si hay algún atributo que no tenga significancia o peso en la desición"
   ]
  },
  {
   "cell_type": "code",
   "execution_count": 46,
   "metadata": {},
   "outputs": [
    {
     "name": "stdout",
     "output_type": "stream",
     "text": [
      "WDWrace: 95.89429%\n",
      "0    2032\n",
      "1      87\n",
      "Name: WDWrace, dtype: int64\n",
      "\n"
     ]
    }
   ],
   "source": [
    "filas = len(disney6.index)\n",
    "info = [] #\n",
    "\n",
    "for col in disney6.columns:\n",
    "    contar = disney6[col].value_counts(dropna=False)\n",
    "    top_pct = (contar/filas).iloc[0]\n",
    "    \n",
    "    if top_pct > 0.95:\n",
    "        info.append(col)\n",
    "        print('{0}: {1:.5f}%'.format(col, top_pct*100))\n",
    "        print(contar)\n",
    "        print()"
   ]
  },
  {
   "cell_type": "markdown",
   "metadata": {},
   "source": [
    "Eliminamos este atributo, porque del total de la muestra solo menos del 5% este evento puede tener un efecto en la desición"
   ]
  },
  {
   "cell_type": "code",
   "execution_count": 47,
   "metadata": {},
   "outputs": [],
   "source": [
    "disney7 = disney6.drop(['WDWrace'],axis=1)"
   ]
  },
  {
   "cell_type": "code",
   "execution_count": 48,
   "metadata": {},
   "outputs": [
    {
     "data": {
      "text/plain": [
       "(2119, 14)"
      ]
     },
     "execution_count": 48,
     "metadata": {},
     "output_type": "execute_result"
    }
   ],
   "source": [
    "disney7.shape"
   ]
  },
  {
   "cell_type": "markdown",
   "metadata": {},
   "source": [
    "#### 5.7 .- Renombar nombres de las columnas"
   ]
  },
  {
   "cell_type": "markdown",
   "metadata": {},
   "source": [
    "Una vez finalizado el proceso de limpieza, y preprocesamiento de los datos, es necesario asignar al DF nombres en las columnas que sean faciles de entender en su visualización final."
   ]
  },
  {
   "cell_type": "code",
   "execution_count": 49,
   "metadata": {},
   "outputs": [],
   "source": [
    "disney7.columns = ['NIVEL_TEMPORADA','DIA_SEMANA','SEMANA_ANYO','MES_ANYO','ANYO','ESTACION','FESTIVO',\n",
    "                   'EVENTO_EXTRA','TEMPERATURA_MEDIA','RATIO_OCUPACION_ESCOLAR','PRECIPITACIONES_MEDIA',\n",
    "                  'RATIO_CAPACIDAD_FALLOS','RATIO_HORAS_APERTURA','TOTAL_EXTRAS']"
   ]
  },
  {
   "cell_type": "code",
   "execution_count": 50,
   "metadata": {},
   "outputs": [],
   "source": [
    "disney7.to_csv('metadata6.csv',index = False) # guardamos fichero tratado"
   ]
  },
  {
   "cell_type": "markdown",
   "metadata": {},
   "source": [
    "### 6 .- Visualización"
   ]
  },
  {
   "cell_type": "markdown",
   "metadata": {},
   "source": [
    "***Diccionario del DataFrame Final ***"
   ]
  },
  {
   "cell_type": "markdown",
   "metadata": {},
   "source": [
    "| COLUMNA | TIPO | DESCRIPCION | FACTOR DE DECISION |\n",
    "| ----- | --- | ----- | ------ | \n",
    "| NIVEL_TEMPORADA | String | Categoría del precio de las entradas | Precio |\n",
    "| DIA_SEMANA | Entero | Dia de la semana en numeros (1...7) | Fecha |\n",
    "| SEMANA_ANYO | Entero | Número de la semana (0...53) | Fecha |\n",
    "| MES_ANYO | Entero | Número del mes del año (1...12) | Fecha |\n",
    "| ANYO | Entero | Año | Fecha |\n",
    "| ESTACION | String | Época del año | Ocupación o Afluencia |\n",
    "| FESTIVO | Booleano | Es / No es un día festivo | Ocupación o Afluencia |\n",
    "| EVENTO_EXTRA | Booleano | Hay / No hay eventos externos al parque | Ocupacion o Afluencia |\n",
    "| TEMPERATURA_MEDIA | Entero | Media de la temperatura en ºC | Factores Medioambientales |\n",
    "| RATIO_OCUPACION_ESCOLAR | Float | Grado de ocupación de los parques por colegios (0...1) | Ocupación o Afluencia |\n",
    "| PRECIPITACIONES_MEDIA | Float | Media de lluvia | Factores Medioambientales |\n",
    "| RATIO_CAPACIDAD_FALLOS | Float | Grado de pérdida de capacidad del parque por fallos en las atracciones (0...1) | Ocupación a Aluencia |\n",
    "| RATIO_HORAS_APERTURA | Float | Razón de total horario de apertura de los parques (0...1) | Horario de Apertura |\n",
    "| TOTAL_EXTRAS | Entero | Cantidad de actividades extras en los parques | Actividades Extras |"
   ]
  },
  {
   "cell_type": "code",
   "execution_count": 51,
   "metadata": {},
   "outputs": [
    {
     "data": {
      "text/html": [
       "<div>\n",
       "<style scoped>\n",
       "    .dataframe tbody tr th:only-of-type {\n",
       "        vertical-align: middle;\n",
       "    }\n",
       "\n",
       "    .dataframe tbody tr th {\n",
       "        vertical-align: top;\n",
       "    }\n",
       "\n",
       "    .dataframe thead th {\n",
       "        text-align: right;\n",
       "    }\n",
       "</style>\n",
       "<table border=\"1\" class=\"dataframe\">\n",
       "  <thead>\n",
       "    <tr style=\"text-align: right;\">\n",
       "      <th></th>\n",
       "      <th>NIVEL_TEMPORADA</th>\n",
       "      <th>DIA_SEMANA</th>\n",
       "      <th>SEMANA_ANYO</th>\n",
       "      <th>MES_ANYO</th>\n",
       "      <th>ANYO</th>\n",
       "      <th>ESTACION</th>\n",
       "      <th>FESTIVO</th>\n",
       "      <th>EVENTO_EXTRA</th>\n",
       "      <th>TEMPERATURA_MEDIA</th>\n",
       "      <th>RATIO_OCUPACION_ESCOLAR</th>\n",
       "      <th>PRECIPITACIONES_MEDIA</th>\n",
       "      <th>RATIO_CAPACIDAD_FALLOS</th>\n",
       "      <th>RATIO_HORAS_APERTURA</th>\n",
       "      <th>TOTAL_EXTRAS</th>\n",
       "    </tr>\n",
       "  </thead>\n",
       "  <tbody>\n",
       "    <tr>\n",
       "      <th>0</th>\n",
       "      <td>MEDIA</td>\n",
       "      <td>5</td>\n",
       "      <td>0</td>\n",
       "      <td>1</td>\n",
       "      <td>2015</td>\n",
       "      <td>INVIERNO</td>\n",
       "      <td>1</td>\n",
       "      <td>0</td>\n",
       "      <td>19.12</td>\n",
       "      <td>0.00</td>\n",
       "      <td>0.12</td>\n",
       "      <td>0.76</td>\n",
       "      <td>0.80</td>\n",
       "      <td>7</td>\n",
       "    </tr>\n",
       "    <tr>\n",
       "      <th>1</th>\n",
       "      <td>BAJA</td>\n",
       "      <td>6</td>\n",
       "      <td>0</td>\n",
       "      <td>1</td>\n",
       "      <td>2015</td>\n",
       "      <td>INVIERNO</td>\n",
       "      <td>0</td>\n",
       "      <td>0</td>\n",
       "      <td>20.76</td>\n",
       "      <td>0.00</td>\n",
       "      <td>0.12</td>\n",
       "      <td>0.76</td>\n",
       "      <td>0.83</td>\n",
       "      <td>7</td>\n",
       "    </tr>\n",
       "    <tr>\n",
       "      <th>2</th>\n",
       "      <td>BAJA</td>\n",
       "      <td>7</td>\n",
       "      <td>0</td>\n",
       "      <td>1</td>\n",
       "      <td>2015</td>\n",
       "      <td>INVIERNO</td>\n",
       "      <td>0</td>\n",
       "      <td>0</td>\n",
       "      <td>24.01</td>\n",
       "      <td>0.00</td>\n",
       "      <td>0.07</td>\n",
       "      <td>0.76</td>\n",
       "      <td>0.76</td>\n",
       "      <td>6</td>\n",
       "    </tr>\n",
       "    <tr>\n",
       "      <th>3</th>\n",
       "      <td>ALTA</td>\n",
       "      <td>1</td>\n",
       "      <td>1</td>\n",
       "      <td>1</td>\n",
       "      <td>2015</td>\n",
       "      <td>INVIERNO</td>\n",
       "      <td>0</td>\n",
       "      <td>0</td>\n",
       "      <td>24.42</td>\n",
       "      <td>0.69</td>\n",
       "      <td>0.12</td>\n",
       "      <td>0.76</td>\n",
       "      <td>0.71</td>\n",
       "      <td>5</td>\n",
       "    </tr>\n",
       "    <tr>\n",
       "      <th>4</th>\n",
       "      <td>ALTA</td>\n",
       "      <td>2</td>\n",
       "      <td>1</td>\n",
       "      <td>1</td>\n",
       "      <td>2015</td>\n",
       "      <td>INVIERNO</td>\n",
       "      <td>0</td>\n",
       "      <td>0</td>\n",
       "      <td>18.11</td>\n",
       "      <td>0.69</td>\n",
       "      <td>0.12</td>\n",
       "      <td>0.77</td>\n",
       "      <td>0.67</td>\n",
       "      <td>5</td>\n",
       "    </tr>\n",
       "    <tr>\n",
       "      <th>...</th>\n",
       "      <td>...</td>\n",
       "      <td>...</td>\n",
       "      <td>...</td>\n",
       "      <td>...</td>\n",
       "      <td>...</td>\n",
       "      <td>...</td>\n",
       "      <td>...</td>\n",
       "      <td>...</td>\n",
       "      <td>...</td>\n",
       "      <td>...</td>\n",
       "      <td>...</td>\n",
       "      <td>...</td>\n",
       "      <td>...</td>\n",
       "      <td>...</td>\n",
       "    </tr>\n",
       "    <tr>\n",
       "      <th>2114</th>\n",
       "      <td>MEDIA</td>\n",
       "      <td>5</td>\n",
       "      <td>21</td>\n",
       "      <td>5</td>\n",
       "      <td>2021</td>\n",
       "      <td>PRIMAVERA</td>\n",
       "      <td>0</td>\n",
       "      <td>0</td>\n",
       "      <td>27.43</td>\n",
       "      <td>0.89</td>\n",
       "      <td>0.16</td>\n",
       "      <td>0.95</td>\n",
       "      <td>0.66</td>\n",
       "      <td>0</td>\n",
       "    </tr>\n",
       "    <tr>\n",
       "      <th>2115</th>\n",
       "      <td>MEDIA</td>\n",
       "      <td>1</td>\n",
       "      <td>22</td>\n",
       "      <td>5</td>\n",
       "      <td>2021</td>\n",
       "      <td>PRIMAVERA</td>\n",
       "      <td>0</td>\n",
       "      <td>0</td>\n",
       "      <td>27.36</td>\n",
       "      <td>0.89</td>\n",
       "      <td>0.19</td>\n",
       "      <td>0.95</td>\n",
       "      <td>0.66</td>\n",
       "      <td>0</td>\n",
       "    </tr>\n",
       "    <tr>\n",
       "      <th>2116</th>\n",
       "      <td>MEDIA</td>\n",
       "      <td>2</td>\n",
       "      <td>22</td>\n",
       "      <td>5</td>\n",
       "      <td>2021</td>\n",
       "      <td>PRIMAVERA</td>\n",
       "      <td>1</td>\n",
       "      <td>0</td>\n",
       "      <td>23.94</td>\n",
       "      <td>0.89</td>\n",
       "      <td>0.20</td>\n",
       "      <td>0.95</td>\n",
       "      <td>0.66</td>\n",
       "      <td>0</td>\n",
       "    </tr>\n",
       "    <tr>\n",
       "      <th>2117</th>\n",
       "      <td>BAJA</td>\n",
       "      <td>3</td>\n",
       "      <td>22</td>\n",
       "      <td>6</td>\n",
       "      <td>2021</td>\n",
       "      <td>PRIMAVERA</td>\n",
       "      <td>0</td>\n",
       "      <td>0</td>\n",
       "      <td>26.80</td>\n",
       "      <td>0.89</td>\n",
       "      <td>0.20</td>\n",
       "      <td>0.95</td>\n",
       "      <td>0.66</td>\n",
       "      <td>0</td>\n",
       "    </tr>\n",
       "    <tr>\n",
       "      <th>2118</th>\n",
       "      <td>BAJA</td>\n",
       "      <td>4</td>\n",
       "      <td>22</td>\n",
       "      <td>6</td>\n",
       "      <td>2021</td>\n",
       "      <td>PRIMAVERA</td>\n",
       "      <td>0</td>\n",
       "      <td>0</td>\n",
       "      <td>25.45</td>\n",
       "      <td>0.89</td>\n",
       "      <td>0.24</td>\n",
       "      <td>0.95</td>\n",
       "      <td>0.66</td>\n",
       "      <td>0</td>\n",
       "    </tr>\n",
       "  </tbody>\n",
       "</table>\n",
       "<p>2119 rows × 14 columns</p>\n",
       "</div>"
      ],
      "text/plain": [
       "     NIVEL_TEMPORADA  DIA_SEMANA  SEMANA_ANYO  MES_ANYO  ANYO   ESTACION  \\\n",
       "0              MEDIA           5            0         1  2015   INVIERNO   \n",
       "1               BAJA           6            0         1  2015   INVIERNO   \n",
       "2               BAJA           7            0         1  2015   INVIERNO   \n",
       "3               ALTA           1            1         1  2015   INVIERNO   \n",
       "4               ALTA           2            1         1  2015   INVIERNO   \n",
       "...              ...         ...          ...       ...   ...        ...   \n",
       "2114           MEDIA           5           21         5  2021  PRIMAVERA   \n",
       "2115           MEDIA           1           22         5  2021  PRIMAVERA   \n",
       "2116           MEDIA           2           22         5  2021  PRIMAVERA   \n",
       "2117            BAJA           3           22         6  2021  PRIMAVERA   \n",
       "2118            BAJA           4           22         6  2021  PRIMAVERA   \n",
       "\n",
       "      FESTIVO  EVENTO_EXTRA  TEMPERATURA_MEDIA  RATIO_OCUPACION_ESCOLAR  \\\n",
       "0           1             0              19.12                     0.00   \n",
       "1           0             0              20.76                     0.00   \n",
       "2           0             0              24.01                     0.00   \n",
       "3           0             0              24.42                     0.69   \n",
       "4           0             0              18.11                     0.69   \n",
       "...       ...           ...                ...                      ...   \n",
       "2114        0             0              27.43                     0.89   \n",
       "2115        0             0              27.36                     0.89   \n",
       "2116        1             0              23.94                     0.89   \n",
       "2117        0             0              26.80                     0.89   \n",
       "2118        0             0              25.45                     0.89   \n",
       "\n",
       "      PRECIPITACIONES_MEDIA  RATIO_CAPACIDAD_FALLOS  RATIO_HORAS_APERTURA  \\\n",
       "0                      0.12                    0.76                  0.80   \n",
       "1                      0.12                    0.76                  0.83   \n",
       "2                      0.07                    0.76                  0.76   \n",
       "3                      0.12                    0.76                  0.71   \n",
       "4                      0.12                    0.77                  0.67   \n",
       "...                     ...                     ...                   ...   \n",
       "2114                   0.16                    0.95                  0.66   \n",
       "2115                   0.19                    0.95                  0.66   \n",
       "2116                   0.20                    0.95                  0.66   \n",
       "2117                   0.20                    0.95                  0.66   \n",
       "2118                   0.24                    0.95                  0.66   \n",
       "\n",
       "      TOTAL_EXTRAS  \n",
       "0                7  \n",
       "1                7  \n",
       "2                6  \n",
       "3                5  \n",
       "4                5  \n",
       "...            ...  \n",
       "2114             0  \n",
       "2115             0  \n",
       "2116             0  \n",
       "2117             0  \n",
       "2118             0  \n",
       "\n",
       "[2119 rows x 14 columns]"
      ]
     },
     "execution_count": 51,
     "metadata": {},
     "output_type": "execute_result"
    }
   ],
   "source": [
    "disney7"
   ]
  },
  {
   "cell_type": "markdown",
   "metadata": {},
   "source": [
    "### 7 .- Conclusiones"
   ]
  },
  {
   "cell_type": "markdown",
   "metadata": {},
   "source": [
    "La etapa de procesamiento nos ha permitido, mediante una serie de técnicas e intrucciones en Python, depurar el DF necesario para ejecutar el modelo predictivo propuesto en la Actividad 1.\n",
    "\n",
    "Durante todo este proceso hemos podido analizar el DF, descartando atributos y valores que no aportaban datos significativos para ejecutar el modelo.\n",
    "\n",
    "Como resultado, de un DF original de 181 atributos, muchos de ellos con valores NaN, hemos llegado a un DF con tan solo 14 columnas que muestran valores consistentes en los distintos campos de desición:\n",
    "- Precio de las entradas\n",
    "- Fecha o época del año\n",
    "- Ocupación y afluencia de los parques\n",
    "- Horario de apertura\n",
    "- Actividades Extras\n",
    "\n",
    "La gran parte de los atributos son variables cuantitatitas, que permitirá al modelo escogido del proceso KDD basarse en valores numéricos para su ejecución.\n",
    "\n",
    "Como punto de mejora de esta actividad, que por tiempo, y herramientas no se ha podido realizar, es buscar la forma de completar de una forma automatizada (modelado de datos perdidos) los valores NaN del atributo 'NIVEL_TEMPORADA'; ya que al depender de la semanas y dias del año, no siguen un patrón constante.  En la presente actividad se hizo de forma manual, y sobre un fichero .csv"
   ]
  },
  {
   "cell_type": "code",
   "execution_count": null,
   "metadata": {},
   "outputs": [],
   "source": []
  }
 ],
 "metadata": {
  "kernelspec": {
   "display_name": "Python 3 (ipykernel)",
   "language": "python",
   "name": "python3"
  },
  "language_info": {
   "codemirror_mode": {
    "name": "ipython",
    "version": 3
   },
   "file_extension": ".py",
   "mimetype": "text/x-python",
   "name": "python",
   "nbconvert_exporter": "python",
   "pygments_lexer": "ipython3",
   "version": "3.8.11"
  }
 },
 "nbformat": 4,
 "nbformat_minor": 4
}
